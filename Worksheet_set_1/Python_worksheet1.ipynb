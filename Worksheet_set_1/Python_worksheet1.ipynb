{
 "cells": [
  {
   "cell_type": "code",
   "execution_count": 5,
   "id": "aaedcba7",
   "metadata": {},
   "outputs": [
    {
     "name": "stdout",
     "output_type": "stream",
     "text": [
      "Factorial of 7 is 5040\n"
     ]
    }
   ],
   "source": [
    "#11\n",
    "def fact(n11):\n",
    "    if n11 < 0:\n",
    "        return 0\n",
    "    elif n11 == 0 or n11 == 1:\n",
    "        return 1\n",
    "    else:\n",
    "        fact = 1\n",
    "        while(n11 > 1):\n",
    "            fact *= n11\n",
    "            n11 -= 1\n",
    "        return fact\n",
    " \n",
    "\n",
    "number = 7\n",
    "print(\"Factorial of\",number,\"is\",fact(number))"
   ]
  },
  {
   "cell_type": "code",
   "execution_count": 15,
   "id": "8bdf9b69",
   "metadata": {},
   "outputs": [
    {
     "name": "stdout",
     "output_type": "stream",
     "text": [
      "11 is a prime number\n",
      "11 is a prime number\n",
      "11 is a prime number\n",
      "11 is a prime number\n"
     ]
    }
   ],
   "source": [
    "#12\n",
    "\n",
    "\n",
    "\n",
    "n=11\n",
    "for i in range(2, int(n/2)+1):\n",
    "    if (n % i) == 0:\n",
    "        print(n, \"is not a prime number\")\n",
    "        break\n",
    "    else:\n",
    "        print(n, \"is a prime number\")\n"
   ]
  },
  {
   "cell_type": "code",
   "execution_count": 22,
   "id": "16c40593",
   "metadata": {},
   "outputs": [
    {
     "name": "stdout",
     "output_type": "stream",
     "text": [
      "The string is a palindrome.\n"
     ]
    }
   ],
   "source": [
    "#13\n",
    "\n",
    "my_str = 'aIbohPhoBiA'\n",
    "\n",
    "\n",
    "my_str = my_str.casefold()\n",
    "\n",
    "\n",
    "rev_str = reversed(my_str)\n",
    "\n",
    "\n",
    "if list(my_str) == list(rev_str):\n",
    "   print(\"The string is a palindrome.\")\n",
    "else:\n",
    "   print(\"The string is not a palindrome.\")"
   ]
  },
  {
   "cell_type": "code",
   "execution_count": 21,
   "id": "25066a8b",
   "metadata": {},
   "outputs": [
    {
     "name": "stdout",
     "output_type": "stream",
     "text": [
      "Hypotenuse = 5.0\n",
      "Adjacent = 4.0\n",
      "Opposite = 3.0\n",
      "You got it Right\n"
     ]
    }
   ],
   "source": [
    "#14\n",
    "\n",
    "def pythagoras(opposite_side,adjacent_side,hypotenuse):\n",
    "        if opposite_side == str(\"x\"):\n",
    "            return (\"Opposite = \" + str(((hypotenuse**2) - (adjacent_side**2))**0.5))\n",
    "        elif adjacent_side == str(\"x\"):\n",
    "            return (\"Adjacent = \" + str(((hypotenuse**2) - (opposite_side**2))**0.5))\n",
    "        elif hypotenuse == str(\"x\"):\n",
    "            return (\"Hypotenuse = \" + str(((opposite_side**2) + (adjacent_side**2))**0.5))\n",
    "        else:\n",
    "            return \"You got it Right\"\n",
    "    \n",
    "print(pythagoras(3,4,'x'))\n",
    "print(pythagoras(3,'x',5))\n",
    "print(pythagoras('x',4,5))\n",
    "print(pythagoras(3,4,5))"
   ]
  },
  {
   "cell_type": "code",
   "execution_count": 19,
   "id": "5c892032",
   "metadata": {},
   "outputs": [
    {
     "name": "stdout",
     "output_type": "stream",
     "text": [
      "Count of all characters in PythonisObjectOriented is :\n",
      " Counter({'t': 3, 'e': 3, 'n': 2, 'i': 2, 'O': 2, 'P': 1, 'y': 1, 'h': 1, 'o': 1, 's': 1, 'b': 1, 'j': 1, 'c': 1, 'r': 1, 'd': 1})\n"
     ]
    }
   ],
   "source": [
    "#15\n",
    "\n",
    "from collections import Counter\n",
    " \n",
    "\n",
    "test_str = \"PythonisObjectOriented\"\n",
    " \n",
    "\n",
    "res = Counter(test_str)\n",
    " \n",
    "\n",
    "print(\"Count of all characters in PythonisObjectOriented is :\\n \"\n",
    "      + str(res))"
   ]
  },
  {
   "cell_type": "code",
   "execution_count": null,
   "id": "5acbe000",
   "metadata": {},
   "outputs": [],
   "source": []
  },
  {
   "cell_type": "code",
   "execution_count": null,
   "id": "3fd4b333",
   "metadata": {},
   "outputs": [],
   "source": []
  }
 ],
 "metadata": {
  "kernelspec": {
   "display_name": "Python 3 (ipykernel)",
   "language": "python",
   "name": "python3"
  },
  "language_info": {
   "codemirror_mode": {
    "name": "ipython",
    "version": 3
   },
   "file_extension": ".py",
   "mimetype": "text/x-python",
   "name": "python",
   "nbconvert_exporter": "python",
   "pygments_lexer": "ipython3",
   "version": "3.10.9"
  }
 },
 "nbformat": 4,
 "nbformat_minor": 5
}
