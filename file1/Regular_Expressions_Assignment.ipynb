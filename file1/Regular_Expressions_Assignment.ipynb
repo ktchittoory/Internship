{
 "cells": [
  {
   "cell_type": "code",
   "execution_count": null,
   "id": "034ec4ea",
   "metadata": {},
   "outputs": [],
   "source": [
    "#1==Write a Python program to replace all occurrences of a space, comma, or dot with a colon.\n",
    "import re\n",
    "\n",
    "txt11='Python Exercises, PHP exercises.'\n",
    "\n",
    "txt12=re.sub(\",\",\":\",txt11)\n",
    "txt13=re.sub(\"\\s\",\":\",txt12)\n",
    "txt14=re.sub(\"\\.\",\":\",txt13)\n",
    "print(txt14)\n"
   ]
  },
  {
   "cell_type": "code",
   "execution_count": null,
   "id": "6644cc2a",
   "metadata": {},
   "outputs": [],
   "source": [
    "#3==Create a function in python to find all words that are at least 4 characters long in a string. The use of the re.compile() method is mandatory.\n",
    "\n",
    "\n",
    "\n",
    "import re\n",
    "\n",
    "pattern=re.compile(\"\\w{4,8}\")\n",
    "\n",
    "\n",
    "\n",
    "def words_Atleast4_chars(str):\n",
    "    x=pattern.findall(str)\n",
    "    return x\n",
    "   \n",
    "words_Atleast4_chars(\"The sun rises in the east\")\n"
   ]
  },
  {
   "cell_type": "code",
   "execution_count": null,
   "id": "fbf9cb36",
   "metadata": {},
   "outputs": [],
   "source": [
    "#4==Create a function in python to find all three, four, and five character words in a string. The use of the re.compile() method is mandatory\n",
    "\n",
    "import re \n",
    "p1 = re.compile('\\s''[a-zA-Z]''[a-zA-Z]''[a-zA-Z]''\\s')\n",
    "p2 = re.compile('\\s''[a-zA-Z]''[a-zA-Z]''[a-zA-Z]''[a-zA-Z]''\\s')\n",
    "p3 = re.compile('\\s''[a-zA-Z]''[a-zA-Z]''[a-zA-Z]''[a-zA-Z]''[a-zA-Z]''\\s')\n",
    "\n",
    "def find_3_character_words(string3):\n",
    "    print(p1.findall(string3))\n",
    "    \n",
    "\n",
    "\n",
    "def find_4_character_words(string4):\n",
    "    print(p2.findall(string4))\n",
    "    \n",
    "\n",
    "def find_5_character_words(string4):\n",
    "    print(p3.findall(string4))\n",
    "    \n",
    "find_3_character_words(\" Aye , said Mr. Giben stark\")\n",
    "find_4_character_words(\" Aye , said Mr. Giben stark\")\n",
    "find_5_character_words(\" Aye , said Mr. Giben stark\")\n"
   ]
  },
  {
   "cell_type": "code",
   "execution_count": null,
   "id": "be450bd2",
   "metadata": {},
   "outputs": [],
   "source": [
    "#5==Create a function in Python to remove the parenthesis in a list of strings. The use of the re.compile() method is mandatory\n",
    "\n",
    "import re\n",
    "items = [\"example(.com)\",\"hr@fliprobo(.com)\",\"github(.com)\",\"Hello (Data Science World)\",\"Data (Scientist)\"]\n",
    "for item in items:\n",
    "    str12=re.sub(\"\\(\",\"\",item)\n",
    "\n",
    "    str13=re.sub(\"\\)\",\"\",str12)\n",
    "    print(str13)\n"
   ]
  },
  {
   "cell_type": "code",
   "execution_count": null,
   "id": "daba66fa",
   "metadata": {},
   "outputs": [],
   "source": [
    "#6==Write a python program to remove the parenthesis area from the text stored in the text file using Regular Expression.\n",
    "\n",
    "import re\n",
    "items = [\"example(.com)\", \"hr@fliprobo(.com)\", \"github(.com)\", \"Hello(Data Science World)\", \"Data(Scientist)\"]\n",
    "for item in items:\t\n",
    "    print(re.sub(r\" ?\\([^)]+\\)\", \"\", item))\n"
   ]
  },
  {
   "cell_type": "code",
   "execution_count": null,
   "id": "3d1d9009",
   "metadata": {},
   "outputs": [],
   "source": [
    "#7==Write a regular expression in Python to split a string into uppercase letters\n",
    "\n",
    "import re\n",
    "\n",
    "txt123 = \"TheRainInSpain\"\n",
    "x = re.split('[A-Z]', txt123)\n",
    "print(x)\n",
    "\n"
   ]
  },
  {
   "cell_type": "code",
   "execution_count": null,
   "id": "17312caf",
   "metadata": {},
   "outputs": [],
   "source": [
    "#8==Create a function in python to insert spaces between words starting with numbers.\n",
    "\n",
    "import re\n",
    "\n",
    "str=\"RegularExpression1IsAn2ImportantTopic3InPython\"\n",
    "pattern=\"\\d\"\n",
    "re.sub(\"\\d\",\" \",str)\n",
    "\n"
   ]
  },
  {
   "cell_type": "code",
   "execution_count": null,
   "id": "b822c706",
   "metadata": {},
   "outputs": [],
   "source": [
    "#9==Create a function in python to insert spaces between words starting with capital letters or with numbers.\n",
    "\n",
    "import re\n",
    "def cap_words_spaces(str1):\n",
    "  return re.sub(r\"(\\w)([A-Z0-9])\", r\"\\1 \\2\", str1)\n",
    "\n",
    "print(cap_words_spaces(\"RegularExpression1IsAn2ImportantTopic3InPython\"))\n"
   ]
  },
  {
   "cell_type": "code",
   "execution_count": null,
   "id": "2385baae",
   "metadata": {},
   "outputs": [],
   "source": [
    "#11==- Write a Python program to match a string that contains only upper and lowercase letters, numbers, and underscores\n",
    "\n",
    "def word_char_match(text):\n",
    "        patterns = '^\\w+'\n",
    "        if re.search(patterns,  text):\n",
    "                return 'Found a match!'\n",
    "        else:\n",
    "                return('Not matched!')\n",
    "\n",
    "print(word_char_match(\"? The sentence contains only word characters.\"))\n",
    "print(word_char_match(\"7The sentene contains only word characters.\"))\n"
   ]
  },
  {
   "cell_type": "code",
   "execution_count": null,
   "id": "d7549637",
   "metadata": {},
   "outputs": [],
   "source": [
    "#12==Write a Python program where a string will start with a specific number. \n",
    "\n",
    "def num_match(text):\n",
    "        patterns = '^\\d+'\n",
    "        if re.search(patterns,  text):\n",
    "                return 'Found a match!'\n",
    "        else:\n",
    "                return('Not matched!')\n",
    "\n",
    "print(num_match(\"67The sentence starts with a number.\"))\n",
    "print(num_match(\"7The sentene starts with a number.\"))\n"
   ]
  },
  {
   "cell_type": "code",
   "execution_count": null,
   "id": "47ab2849",
   "metadata": {},
   "outputs": [],
   "source": [
    "#13==- Write a Python program to remove leading zeros from an IP address\n",
    "\n",
    "import re\n",
    "\n",
    "str=\"56700000\"\n",
    "patt=\"[0]\"\n",
    "\n",
    "re.sub(patt,\"\",str)\n"
   ]
  },
  {
   "cell_type": "code",
   "execution_count": null,
   "id": "0f23ddd6",
   "metadata": {},
   "outputs": [],
   "source": [
    "#15==Write a Python program to search some literals strings in a string. \n",
    "\n",
    "patt = [ 'fox', 'dog', 'horse' ]\n",
    "text123 = 'The quick brown fox jumps over the lazy dog.'\n",
    "for p in patt:\n",
    "    \n",
    "    if re.search(p,text123):\n",
    "        print('Matched!')\n",
    "    else:\n",
    "        print('Not Matched!')\n"
   ]
  },
  {
   "cell_type": "code",
   "execution_count": null,
   "id": "a227ef01",
   "metadata": {},
   "outputs": [],
   "source": [
    "#16==Write a Python program to search a literals string in a string and also find the location within the original string where the pattern occurs\n",
    "\n",
    "pat = 'fox'\n",
    "tex12 = 'The quick brown fox jumps over the lazy dog.'\n",
    "mat11 = re.search(pat, tex12)\n",
    "s = mat11.start()\n",
    "e = mat11.end()\n",
    "print('Start and End Location within the Original String are',s,e)\n"
   ]
  },
  {
   "cell_type": "code",
   "execution_count": null,
   "id": "940e9450",
   "metadata": {},
   "outputs": [],
   "source": [
    "#17==- Write a Python program to find the substrings within a string.\n",
    "\n",
    "\n",
    "text = 'Python exercises, PHP exercises, C# exercises'\n",
    "pattern = 'exercises'\n",
    "matches=re.findall(pattern, text)\n",
    "for match in matches:\n",
    "    print('Found', match)\n"
   ]
  },
  {
   "cell_type": "code",
   "execution_count": null,
   "id": "8b28f3c1",
   "metadata": {},
   "outputs": [],
   "source": [
    "#18==- Write a Python program to find the occurrence and position of the substrings within a string.\n",
    "\n",
    "text = 'Python exercises, PHP exercises, C# exercises'\n",
    "pattern = 'exercises'\n",
    "matches=re.finditer(pattern, text)\n",
    "for match in matches:\n",
    "    print(match.span())\n"
   ]
  },
  {
   "cell_type": "code",
   "execution_count": null,
   "id": "92b39e76",
   "metadata": {},
   "outputs": [],
   "source": [
    "#19==Write a Python program to convert a date of yyyy-mm-dd format to dd-mm-yyyy format.\n",
    "\n",
    "def chan_date_format(dt):\n",
    "        return re.sub(r'(\\d{4})-(\\d{1,2})-(\\d{1,2})', '\\\\3-\\\\2-\\\\1', dt)\n",
    "dt1 = \"2022-05-05\"\n",
    "print(\"Original date in YYY-MM-DD Format: \",dt1)\n",
    "print(\"New date in DD-MM-YYYY Format: \",chan_date_format(dt1))\n"
   ]
  },
  {
   "cell_type": "code",
   "execution_count": null,
   "id": "02bd4b39",
   "metadata": {},
   "outputs": [],
   "source": [
    "#21==Write a Python program to separate and print the numbers and their position of a given string.\n",
    "\n",
    "text = \"The following example creates an ArrayList with a capacity of 50 elements. Four elements are then added to the ArrayList and the ArrayList is trimmed accordingly.\"\n",
    "\n",
    "for m in re.finditer(\"\\d+\", text):\n",
    "    print(m.group(0))\n",
    "    print(\"Index position:\", m.start())\n"
   ]
  },
  {
   "cell_type": "code",
   "execution_count": null,
   "id": "e02de5de",
   "metadata": {},
   "outputs": [],
   "source": [
    "#22==Write a regular expression in python program to extract maximum/largest numeric value from a string.\n",
    "\n",
    "import re\n",
    "pattern=\"\\d{3}\"\n",
    "string12=\"My marks in each semester are: 947, 896, 926, 524, 734, 950, 642\"\n",
    "list2=re.findall(pattern,string12)\n",
    "print(list2)\n",
    "test_list = list(map(int,list2))\n",
    "print(test_list)\n",
    "test_list.sort()\n",
    "print(test_list)\n",
    "test_list[-1]\n"
   ]
  },
  {
   "cell_type": "code",
   "execution_count": null,
   "id": "b8372060",
   "metadata": {},
   "outputs": [],
   "source": [
    "#23==Create a function in python to insert spaces between words starting with capital letters.\n",
    "\n",
    "import re\n",
    "def cap_words_spaces(str1):\n",
    "  return re.sub(r\"(\\w)([A-Z])\", r\"\\1 \\2\", str1)\n",
    "\n",
    "print(cap_words_spaces(\"RegularExpressionIsAnImportantTopicInPython\"))\n"
   ]
  },
  {
   "cell_type": "code",
   "execution_count": null,
   "id": "efae44d0",
   "metadata": {},
   "outputs": [],
   "source": [
    "#24==Python regex to find sequences of one upper case letter followed by lower case letters\n",
    "\n",
    "import re\n",
    "\n",
    "pattern=\"[A-Z]\\w{2,7}\"\n",
    "string12=\"Do Grand Party the way You like it\"\n",
    "\n",
    "re.findall(pattern,string12)\n"
   ]
  },
  {
   "cell_type": "code",
   "execution_count": null,
   "id": "9d91b782",
   "metadata": {},
   "outputs": [],
   "source": [
    "#25==Write a Python program to remove continuous duplicate words from Sentence using Regular Expression.\n",
    "\n",
    "\n",
    "pattern=\"[a-zA-Z]\\w{0,7}\"\n",
    "string12=\"Hello hello world world\"\n",
    "text_str=re.findall(pattern,string12)\n",
    "print(text_str)\n",
    "j=\" \"\n",
    "text_str1=j.join(text_str)\n",
    "print(text_str1)\n",
    "def unique_list(text_str1):\n",
    "    \n",
    "    l = text_str1.split()\n",
    "    \n",
    "    \n",
    "    temp = []\n",
    "    \n",
    "    \n",
    "    for x in l:\n",
    "    \n",
    "        if x not in temp:\n",
    "            \n",
    "            temp.append(x)\n",
    "    \n",
    "    \n",
    "    return ' '.join(temp)\n",
    "print(unique_list(text_str1))\n"
   ]
  },
  {
   "cell_type": "code",
   "execution_count": null,
   "id": "2a10733a",
   "metadata": {},
   "outputs": [],
   "source": [
    "#26==Write a python program using RegEx to accept string ending with alphanumeric character.\n",
    "\n",
    "\n",
    "import re\n",
    "\n",
    "regex_expression = '[a-zA-z0-9]$'\n",
    "\n",
    "def check_string(my_string):\n",
    "\n",
    "   if(re.search(regex_expression, my_string)):\n",
    "      print(\"The string ends with alphanumeric character\")\n",
    "\n",
    "   else:\n",
    "      print(\"The string doesnot end with alphanumeric character\")\n",
    "check_string(\"All is well2\")\n",
    "check_string(\"Dinner was delicious$\")\n"
   ]
  },
  {
   "cell_type": "code",
   "execution_count": null,
   "id": "a0211c2f",
   "metadata": {},
   "outputs": [],
   "source": [
    "#27==Write a python program using RegEx to extract the hashtags.\n",
    "\n",
    "def extract_hashtags(text):\n",
    " \n",
    "    # the regular expression\n",
    "    regex = \"#(\\w+)\"\n",
    " \n",
    "    # extracting the hashtags\n",
    "    hashtag_list = re.findall(regex, text) \n",
    "    for hashtag in hashtag_list:\n",
    "        print(hashtag)\n",
    "\n",
    "text2 = \"\"\"RT @kapil_kausik: #Doltiwal I mean #xyzabc is \"hurt\" by #Demonetization as the same has rendered USELESS <ed><U+00A0><U+00BD><ed><U+00B1><U+0089> \"acquired funds\" No wo\"\"\"\n",
    "    \n",
    "extract_hashtags(text2)\n"
   ]
  },
  {
   "cell_type": "code",
   "execution_count": null,
   "id": "56fd1c73",
   "metadata": {},
   "outputs": [],
   "source": [
    "#29==Write a python program to extract dates from the text stored in the text file\n",
    "\n",
    "f = open(\"C:/Users/USER/Desktop/Date.txt\", \"r\")\n",
    "read_file=f.read()\n",
    "re.findall('\\d{2}-\\d{2}-\\d{4}',read_file)\n"
   ]
  },
  {
   "cell_type": "code",
   "execution_count": null,
   "id": "6b6fbcbe",
   "metadata": {},
   "outputs": [],
   "source": [
    "#30==- Create a function in python to remove all words from a string of length between 2 and 4.\n",
    "\n",
    "import re\n",
    "patt=re.compile(r\"\\W*\\b\\w{2,4}\\b\")\n",
    "\n",
    "str1234=\"They are in the group of ten countries\"\n",
    "patt.sub(\" \",str1234)\n"
   ]
  },
  {
   "cell_type": "code",
   "execution_count": null,
   "id": "df5d3457",
   "metadata": {},
   "outputs": [],
   "source": []
  }
 ],
 "metadata": {
  "kernelspec": {
   "display_name": "Python 3 (ipykernel)",
   "language": "python",
   "name": "python3"
  },
  "language_info": {
   "codemirror_mode": {
    "name": "ipython",
    "version": 3
   },
   "file_extension": ".py",
   "mimetype": "text/x-python",
   "name": "python",
   "nbconvert_exporter": "python",
   "pygments_lexer": "ipython3",
   "version": "3.10.9"
  }
 },
 "nbformat": 4,
 "nbformat_minor": 5
}
